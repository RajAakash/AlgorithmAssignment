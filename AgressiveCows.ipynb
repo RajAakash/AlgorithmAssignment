{
  "nbformat": 4,
  "nbformat_minor": 0,
  "metadata": {
    "colab": {
      "provenance": [],
      "authorship_tag": "ABX9TyMIUdLPvIWHzLinaszBzFnG",
      "include_colab_link": true
    },
    "kernelspec": {
      "name": "python3",
      "display_name": "Python 3"
    },
    "language_info": {
      "name": "python"
    }
  },
  "cells": [
    {
      "cell_type": "markdown",
      "metadata": {
        "id": "view-in-github",
        "colab_type": "text"
      },
      "source": [
        "<a href=\"https://colab.research.google.com/github/RajAakash/AlgorithmAssignment/blob/main/AgressiveCows.ipynb\" target=\"_parent\"><img src=\"https://colab.research.google.com/assets/colab-badge.svg\" alt=\"Open In Colab\"/></a>"
      ]
    },
    {
      "cell_type": "markdown",
      "source": [
        "# **Native solution**\n",
        "Check all the possible combinations of the cows.\n",
        "Naive Approach:\n",
        "\n",
        "The extremely naive approach is to check all possible distances from 1 to max(stalls[])-min(stalls[]). The maximum distance for which the function canWePlace() returns true, will be our answer.\n",
        "Algorithm:\n",
        "\n",
        "First, we will sort the given stalls[] array.\n",
        "We will use a loop(say i) to check all possible distances.\n",
        "Next, inside the loop, we will send each distance, i, to the function canWePlace() function to check if it is possible to place the cows.\n",
        "        \n",
        "We will return (i-1), where i is the minimum distance for which the function canWePlace() returns false. Because (i-1) is the maximum distance for which we can place all the cows and for the distances >= i, it becomes impossible.\n",
        "    \n",
        "Finally, if we are outside the loop, we can conclude the minimum possible distance should be max(stalls[])-min(stalls[]). And we will return this value.\n",
        "\n"
      ],
      "metadata": {
        "id": "488oXn-vLaF7"
      }
    },
    {
      "cell_type": "code",
      "execution_count": null,
      "metadata": {
        "colab": {
          "base_uri": "https://localhost:8080/"
        },
        "id": "ko90kZPCKwuw",
        "outputId": "e1a6a93a-160f-4ce0-ba98-cb63c6da0f3a"
      },
      "outputs": [
        {
          "output_type": "stream",
          "name": "stdout",
          "text": [
            "The maximum possible minimum distance is: 3\n",
            "Cows are placed at positions: [1, 4, 7]\n"
          ]
        }
      ],
      "source": [
        "def canWePlace(stalls, dist, cows):\n",
        "    n = len(stalls)\n",
        "    cntCows = 1\n",
        "    last = stalls[0]\n",
        "    placed_positions = [last]\n",
        "\n",
        "    for i in range(1, n):\n",
        "        if stalls[i] - last >= dist:\n",
        "            cntCows += 1\n",
        "            last = stalls[i]\n",
        "            placed_positions.append(last)\n",
        "        if cntCows >= cows:\n",
        "            return True, placed_positions\n",
        "\n",
        "    return False, []\n",
        "\n",
        "def aggressiveCows(stalls, k):\n",
        "    n = len(stalls)\n",
        "    stalls.sort()\n",
        "    limit = stalls[n - 1] - stalls[0]\n",
        "    max_min_distance = 0\n",
        "    final_positions = []\n",
        "\n",
        "    for i in range(1, limit + 1):\n",
        "        can_place, positions = canWePlace(stalls, i, k)\n",
        "        if not can_place:\n",
        "            break\n",
        "        max_min_distance = i\n",
        "        final_positions = positions\n",
        "\n",
        "    return max_min_distance, final_positions\n",
        "\n",
        "stalls = [1,2,4,7]\n",
        "k = 3\n",
        "ans, positions = aggressiveCows(stalls, k)\n",
        "print(\"The maximum possible minimum distance is:\", ans)\n",
        "print(\"Cows are placed at positions:\", positions)"
      ]
    },
    {
      "cell_type": "markdown",
      "source": [
        "# **Optimal Approach**\n",
        "We are going to use the Binary Search algorithm to optimize the approach.\n",
        "\n",
        "The primary objective of the Binary Search algorithm is to efficiently determine the appropriate half to eliminate, thereby reducing the search space by half. It does this by determining a specific condition that ensures that the target is not present in that half.\n",
        "\n"
      ],
      "metadata": {
        "id": "GUaAzOYRL9Nw"
      }
    },
    {
      "cell_type": "code",
      "source": [
        "def canWePlace(stalls, dist, cows):\n",
        "    n = len(stalls)\n",
        "    cntCows = 1\n",
        "    last = stalls[0]\n",
        "    for i in range(1, n):\n",
        "        if stalls[i] - last >= dist:\n",
        "            cntCows += 1\n",
        "            last = stalls[i]\n",
        "        if cntCows >= cows:\n",
        "            return True\n",
        "    return False\n",
        "\n",
        "def aggressiveCows(stalls, k):\n",
        "    n = len(stalls)\n",
        "    stalls.sort()\n",
        "\n",
        "    low = 1\n",
        "    high = stalls[n - 1] - stalls[0]\n",
        "\n",
        "    max_min_distance = 0\n",
        "    final_positions = []\n",
        "\n",
        "    # apply binary search\n",
        "    while low <= high:\n",
        "        mid = (low + high) // 2\n",
        "        if canWePlace(stalls, mid, k):\n",
        "            low = mid + 1\n",
        "            max_min_distance = mid\n",
        "        else:\n",
        "            high = mid - 1\n",
        "\n",
        "    # Find positions of placed cows using the max_min_distance\n",
        "    cntCows = 1\n",
        "    last = stalls[0]\n",
        "    for i in range(1, n):\n",
        "        if stalls[i] - last >= max_min_distance:\n",
        "            cntCows += 1\n",
        "            last = stalls[i]\n",
        "            final_positions.append(last)\n",
        "        if cntCows >= k:\n",
        "            break\n",
        "\n",
        "    return max_min_distance, final_positions\n",
        "\n",
        "stalls = [0, 3, 4, 7, 10, 9]\n",
        "k = 4\n",
        "ans, positions = aggressiveCows(stalls, k)\n",
        "print(\"The maximum possible minimum distance is:\", ans)\n",
        "print(\"Cows are placed at positions:\", positions)"
      ],
      "metadata": {
        "colab": {
          "base_uri": "https://localhost:8080/"
        },
        "id": "xZq1OBz9L3be",
        "outputId": "e8512fe3-edf7-4a13-864b-d70bf6b1c2b0"
      },
      "execution_count": null,
      "outputs": [
        {
          "output_type": "stream",
          "name": "stdout",
          "text": [
            "The maximum possible minimum distance is: 3\n",
            "Cows are placed at positions: [3, 7, 10]\n"
          ]
        }
      ]
    },
    {
      "cell_type": "code",
      "source": [],
      "metadata": {
        "id": "bUje50vUNKuV"
      },
      "execution_count": null,
      "outputs": []
    }
  ]
}